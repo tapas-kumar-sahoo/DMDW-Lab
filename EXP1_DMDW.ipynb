{
 "cells": [
  {
   "cell_type": "code",
   "execution_count": 5,
   "id": "c9129d72",
   "metadata": {},
   "outputs": [
    {
     "name": "stdout",
     "output_type": "stream",
     "text": [
      "Mean / Average is: 3.0\n"
     ]
    }
   ],
   "source": [
    "#mean without using library\n",
    "n_num = [1,2,3,4,5]\n",
    "n = len(n_num)\n",
    "get_sum = sum(n_num)\n",
    "mean = get_sum / n\n",
    "print(\"Mean / Average is: \" + str(mean))"
   ]
  },
  {
   "cell_type": "code",
   "execution_count": 6,
   "id": "d3120f55",
   "metadata": {},
   "outputs": [
    {
     "name": "stdout",
     "output_type": "stream",
     "text": [
      "Median is: 3\n"
     ]
    }
   ],
   "source": [
    "#median without using library\n",
    "n_num = [1,2,3,4,5]\n",
    "n = len(n_num)\n",
    "n_num.sort()\n",
    "if n % 2 == 0:\n",
    "    median1 = n_num[n//2]\n",
    "    median = (median1 + median2)/2\n",
    "else:\n",
    "    median = n_num[n//2]\n",
    "    print(\"Median is: \" + str(median))"
   ]
  },
  {
   "cell_type": "code",
   "execution_count": 7,
   "id": "beb0df66",
   "metadata": {},
   "outputs": [
    {
     "name": "stdout",
     "output_type": "stream",
     "text": [
      "Mode is / are: 5\n"
     ]
    }
   ],
   "source": [
    "#python program to print mode of elements\n",
    "from collections import Counter\n",
    "n_num=[1,2,3,4,5,5]\n",
    "n=len(n_num)\n",
    "data=Counter(n_num)\n",
    "get_mode=dict(data)\n",
    "mode=[k for k, v in get_mode.items() if v==max(list(data.values()))]\n",
    "if len(mode)==n:\n",
    "    get_mode=\"No mode found\"\n",
    "else:\n",
    "    get_mode=\"Mode is / are: \" + ', '.join(map(str, mode))\n",
    "print(get_mode)"
   ]
  },
  {
   "cell_type": "code",
   "execution_count": 8,
   "id": "15d932f3",
   "metadata": {},
   "outputs": [
    {
     "name": "stdout",
     "output_type": "stream",
     "text": [
      "89.76923076923077\n",
      "87.0\n",
      "9.258292301032677\n",
      "85.71597633136093\n"
     ]
    }
   ],
   "source": [
    "#mode with library function \n",
    "import numpy\n",
    "speed=[99,86,87,88,111,86,103,87,94,78,77,85,86]\n",
    "x=numpy.mean(speed)\n",
    "y=numpy.median(speed)\n",
    "s=numpy.std(speed)\n",
    "v=numpy.var(speed)\n",
    "print(x)\n",
    "print(y)\n",
    "print(s)\n",
    "print(v)"
   ]
  },
  {
   "cell_type": "code",
   "execution_count": 9,
   "id": "3829738e",
   "metadata": {},
   "outputs": [
    {
     "name": "stdout",
     "output_type": "stream",
     "text": [
      "ModeResult(mode=array([86]), count=array([3]))\n"
     ]
    },
    {
     "name": "stderr",
     "output_type": "stream",
     "text": [
      "C:\\Users\\tapas\\AppData\\Local\\Temp\\ipykernel_16768\\2469107881.py:4: FutureWarning: Unlike other reduction functions (e.g. `skew`, `kurtosis`), the default behavior of `mode` typically preserves the axis it acts along. In SciPy 1.11.0, this behavior will change: the default value of `keepdims` will become False, the `axis` over which the statistic is taken will be eliminated, and the value None will no longer be accepted. Set `keepdims` to True or False to avoid this warning.\n",
      "  x = stats.mode(speed)\n"
     ]
    }
   ],
   "source": [
    "#mode with library function\n",
    "from scipy import stats\n",
    "speed=[99,86,87,88,111,86,103,87,94,78,77,85,86]\n",
    "x = stats.mode(speed)\n",
    "print(x)"
   ]
  },
  {
   "cell_type": "code",
   "execution_count": null,
   "id": "003fc759",
   "metadata": {},
   "outputs": [],
   "source": []
  }
 ],
 "metadata": {
  "kernelspec": {
   "display_name": "Python 3 (ipykernel)",
   "language": "python",
   "name": "python3"
  },
  "language_info": {
   "codemirror_mode": {
    "name": "ipython",
    "version": 3
   },
   "file_extension": ".py",
   "mimetype": "text/x-python",
   "name": "python",
   "nbconvert_exporter": "python",
   "pygments_lexer": "ipython3",
   "version": "3.11.3"
  }
 },
 "nbformat": 4,
 "nbformat_minor": 5
}
